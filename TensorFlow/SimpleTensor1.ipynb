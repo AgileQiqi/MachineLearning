{
 "cells": [
  {
   "cell_type": "code",
   "execution_count": 43,
   "metadata": {},
   "outputs": [],
   "source": [
    "import tensorflow as tf"
   ]
  },
  {
   "cell_type": "code",
   "execution_count": null,
   "metadata": {},
   "outputs": [],
   "source": [
    "#Example: Calculate a=(b+c)∗(c+2)"
   ]
  },
  {
   "cell_type": "code",
   "execution_count": 44,
   "metadata": {},
   "outputs": [],
   "source": [
    "#create a constant value of Tensorflow =2\n",
    "const = tf.constant(2.0, name = 'const')\n",
    "\n",
    "#create variable of b&c \n",
    "#b is implictly define the data type as float32 by give the value of 2.0\n",
    "b=tf.Variable(2.0, name = 'b')\n",
    "#c is explicitly define the data type\n",
    "c=tf.Variable(1.0, name = 'c', dtype =tf.float32)"
   ]
  },
  {
   "cell_type": "code",
   "execution_count": 45,
   "metadata": {},
   "outputs": [],
   "source": [
    "#define the operation\n",
    "#It is more secure to use the operate function of tensorflow to replace operators(in case operator overloading)\n",
    "d=tf.add(b,c,name='d')\n",
    "e=tf.add(c,const,name='e')\n",
    "a=tf.multiply(d,e,name='a')"
   ]
  },
  {
   "cell_type": "code",
   "execution_count": 46,
   "metadata": {},
   "outputs": [],
   "source": [
    "#Initialize all variables\n",
    "#This step is mandatory for all variables\n",
    "#two steps:  1.Init operation 2. Run the initial operation\n",
    "init_op=tf.global_variables_initializer()\n"
   ]
  },
  {
   "cell_type": "code",
   "execution_count": null,
   "metadata": {},
   "outputs": [],
   "source": [
    "#Until now, it has finished building a simple Tensorflow graph "
   ]
  },
  {
   "cell_type": "code",
   "execution_count": null,
   "metadata": {},
   "outputs": [],
   "source": [
    "#Start to calculate"
   ]
  },
  {
   "cell_type": "code",
   "execution_count": 47,
   "metadata": {},
   "outputs": [
    {
     "name": "stdout",
     "output_type": "stream",
     "text": [
      "Output a is 9.0\n"
     ]
    }
   ],
   "source": [
    "#Start a session before running a tensorflow graph\n",
    "\n",
    "#session\n",
    "with tf.Session() as sess:\n",
    "    #2nd step of Initialize:  Run the initial operation\n",
    "    sess.run(init_op)\n",
    "    #calculate\n",
    "    a_out = sess.run(a)\n",
    "    print(\"Output a is {}\".format(a_out))"
   ]
  },
  {
   "cell_type": "code",
   "execution_count": null,
   "metadata": {},
   "outputs": [],
   "source": []
  },
  {
   "cell_type": "code",
   "execution_count": null,
   "metadata": {},
   "outputs": [],
   "source": []
  }
 ],
 "metadata": {
  "kernelspec": {
   "display_name": "Python 3",
   "language": "python",
   "name": "python3"
  },
  "language_info": {
   "codemirror_mode": {
    "name": "ipython",
    "version": 3
   },
   "file_extension": ".py",
   "mimetype": "text/x-python",
   "name": "python",
   "nbconvert_exporter": "python",
   "pygments_lexer": "ipython3",
   "version": "3.6.7"
  }
 },
 "nbformat": 4,
 "nbformat_minor": 2
}
