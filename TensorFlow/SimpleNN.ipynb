{
 "cells": [
  {
   "cell_type": "code",
   "execution_count": 1,
   "metadata": {},
   "outputs": [],
   "source": [
    "from tensorflow.examples.tutorials.mnist import input_data"
   ]
  },
  {
   "cell_type": "code",
   "execution_count": 2,
   "metadata": {},
   "outputs": [],
   "source": [
    "import tensorflow as tf"
   ]
  },
  {
   "cell_type": "code",
   "execution_count": 3,
   "metadata": {},
   "outputs": [
    {
     "name": "stdout",
     "output_type": "stream",
     "text": [
      "WARNING:tensorflow:From <ipython-input-3-801cdc438753>:1: read_data_sets (from tensorflow.contrib.learn.python.learn.datasets.mnist) is deprecated and will be removed in a future version.\n",
      "Instructions for updating:\n",
      "Please use alternatives such as official/mnist/dataset.py from tensorflow/models.\n",
      "WARNING:tensorflow:From d:\\installation\\python36\\lib\\site-packages\\tensorflow\\contrib\\learn\\python\\learn\\datasets\\mnist.py:260: maybe_download (from tensorflow.contrib.learn.python.learn.datasets.base) is deprecated and will be removed in a future version.\n",
      "Instructions for updating:\n",
      "Please write your own downloading logic.\n",
      "WARNING:tensorflow:From d:\\installation\\python36\\lib\\site-packages\\tensorflow\\contrib\\learn\\python\\learn\\datasets\\mnist.py:262: extract_images (from tensorflow.contrib.learn.python.learn.datasets.mnist) is deprecated and will be removed in a future version.\n",
      "Instructions for updating:\n",
      "Please use tf.data to implement this functionality.\n",
      "Extracting MNIST_data/train-images-idx3-ubyte.gz\n",
      "WARNING:tensorflow:From d:\\installation\\python36\\lib\\site-packages\\tensorflow\\contrib\\learn\\python\\learn\\datasets\\mnist.py:267: extract_labels (from tensorflow.contrib.learn.python.learn.datasets.mnist) is deprecated and will be removed in a future version.\n",
      "Instructions for updating:\n",
      "Please use tf.data to implement this functionality.\n",
      "Extracting MNIST_data/train-labels-idx1-ubyte.gz\n",
      "WARNING:tensorflow:From d:\\installation\\python36\\lib\\site-packages\\tensorflow\\contrib\\learn\\python\\learn\\datasets\\mnist.py:110: dense_to_one_hot (from tensorflow.contrib.learn.python.learn.datasets.mnist) is deprecated and will be removed in a future version.\n",
      "Instructions for updating:\n",
      "Please use tf.one_hot on tensors.\n",
      "Extracting MNIST_data/t10k-images-idx3-ubyte.gz\n",
      "Extracting MNIST_data/t10k-labels-idx1-ubyte.gz\n",
      "WARNING:tensorflow:From d:\\installation\\python36\\lib\\site-packages\\tensorflow\\contrib\\learn\\python\\learn\\datasets\\mnist.py:290: DataSet.__init__ (from tensorflow.contrib.learn.python.learn.datasets.mnist) is deprecated and will be removed in a future version.\n",
      "Instructions for updating:\n",
      "Please use alternatives such as official/mnist/dataset.py from tensorflow/models.\n"
     ]
    }
   ],
   "source": [
    "mnist = input_data.read_data_sets(\"MNIST_data/\",one_hot=True)\n",
    "#one_hot is used to encode lable, the format requirement of the logit layer of NN"
   ]
  },
  {
   "cell_type": "code",
   "execution_count": 5,
   "metadata": {},
   "outputs": [],
   "source": [
    "#Define hyperparameter\n",
    "learning_rate=0.5\n",
    "epochs=10\n",
    "batch_size=100\n",
    "\n",
    "#Placeholder\n",
    "#Input images with 28*28 digit, Pixel = 784\n",
    "#x = tf.placeholder(tf.float32, [None,784])\n",
    "x = tf.placeholder(tf.float32)\n",
    "#Output as 0-9 one-hot encode \n",
    "#y = tf.placeholder(tf.float32, [None,10])\n",
    "y = tf.placeholder(tf.float32)"
   ]
  },
  {
   "cell_type": "code",
   "execution_count": 6,
   "metadata": {},
   "outputs": [
    {
     "name": "stdout",
     "output_type": "stream",
     "text": [
      "WARNING:tensorflow:From d:\\installation\\python36\\lib\\site-packages\\tensorflow\\python\\framework\\op_def_library.py:263: colocate_with (from tensorflow.python.framework.ops) is deprecated and will be removed in a future version.\n",
      "Instructions for updating:\n",
      "Colocations handled automatically by placer.\n"
     ]
    }
   ],
   "source": [
    "#Define parameter w&b\n",
    "\n",
    "#Parameter of hidden layer w(weight),b(bias)\n",
    "w1=tf.Variable(tf.random_normal([784,300],stddev=0.03), name='w1')\n",
    "b1=tf.Variable(tf.random_normal([300]), name='b1')\n",
    "\n",
    "#Parameter of Output layer\n",
    "w2=tf.Variable(tf.random_normal([300,10],stddev=0.03),name='w2')\n",
    "b2=tf.Variable(tf.random_normal([10]), name='b2')\n",
    "\n",
    "#w & b are intialized randomly, tf.random_normal() generate number of normal distribution"
   ]
  },
  {
   "cell_type": "code",
   "execution_count": 7,
   "metadata": {},
   "outputs": [],
   "source": [
    "#Build the hidden layer\n",
    "hidden_out=tf.add(tf.matmul(x,w1),b1)\n",
    "#Using relu as the activation function\n",
    "hidden_out=tf.nn.relu(hidden_out)\n",
    "\n",
    "#The above formula is:\n",
    "#z=wx+b\n",
    "#h=relu(z)\n"
   ]
  },
  {
   "cell_type": "code",
   "execution_count": 8,
   "metadata": {},
   "outputs": [],
   "source": [
    "#Calculate the output\n",
    "y_=tf.nn.softmax(tf.add(tf.matmul(hidden_out,w2), b2))\n",
    "#softmax is the activation function for output, mostly used in the Multiclass Classification(single label)"
   ]
  },
  {
   "cell_type": "code",
   "execution_count": null,
   "metadata": {},
   "outputs": [],
   "source": [
    "#Back Propagation(BP)"
   ]
  },
  {
   "cell_type": "code",
   "execution_count": 9,
   "metadata": {},
   "outputs": [],
   "source": [
    "#Loss- Cross Entropy\n",
    "y_clipped=tf.clip_by_value(y_,1e-10,0.9999999)\n",
    "#tf.clip_by_value() used to clip the value of y_, ensure the range y_ from min to max, \n",
    "#value < min will be set as min, value >max will be set as max\n",
    "#max is 0.9999999 because of the size of float32\n",
    "\n",
    "#1. Calculate the cross entropy for n labels\n",
    "#2. Calculate the mean of m samples\n",
    "cross_entropy= -tf.reduce_mean(tf.reduce_sum(y*tf.log(y_clipped)+(1-y)*tf.log(1-y_clipped), axis=1))"
   ]
  },
  {
   "cell_type": "code",
   "execution_count": 10,
   "metadata": {},
   "outputs": [
    {
     "name": "stdout",
     "output_type": "stream",
     "text": [
      "WARNING:tensorflow:From d:\\installation\\python36\\lib\\site-packages\\tensorflow\\python\\ops\\math_ops.py:3066: to_int32 (from tensorflow.python.ops.math_ops) is deprecated and will be removed in a future version.\n",
      "Instructions for updating:\n",
      "Use tf.cast instead.\n"
     ]
    }
   ],
   "source": [
    "#Define optimize algorithm\n",
    "#optimizer has multiple choices\n",
    "optimiser = tf.train.GradientDescentOptimizer(learning_rate=learning_rate).minimize(cross_entropy)"
   ]
  },
  {
   "cell_type": "code",
   "execution_count": 11,
   "metadata": {},
   "outputs": [],
   "source": [
    "#Initialize the operator\n",
    "init_op=tf.global_variables_initializer()"
   ]
  },
  {
   "cell_type": "code",
   "execution_count": 12,
   "metadata": {},
   "outputs": [],
   "source": [
    "#Create the accuracy node\n",
    "correct_prediction = tf.equal(tf.argmax(y,1),tf.argmax(y_,1))\n",
    "#Mean of accuracy\n",
    "accuracy = tf.reduce_mean(tf.cast(correct_prediction, tf.float32))\n",
    "#tf.cast used for type cast"
   ]
  },
  {
   "cell_type": "code",
   "execution_count": 28,
   "metadata": {},
   "outputs": [],
   "source": [
    "#Setting up the training"
   ]
  },
  {
   "cell_type": "code",
   "execution_count": 14,
   "metadata": {},
   "outputs": [],
   "source": []
  },
  {
   "cell_type": "code",
   "execution_count": 15,
   "metadata": {},
   "outputs": [
    {
     "name": "stdout",
     "output_type": "stream",
     "text": [
      "Epoch: 1 cost =  0.770\n",
      "Epoch: 2 cost =  0.286\n",
      "Epoch: 3 cost =  0.218\n",
      "Epoch: 4 cost =  0.182\n",
      "Epoch: 5 cost =  0.156\n",
      "Epoch: 6 cost =  0.138\n",
      "Epoch: 7 cost =  0.125\n",
      "Epoch: 8 cost =  0.110\n",
      "Epoch: 9 cost =  0.098\n",
      "Epoch: 10 cost =  0.090\n",
      "0.9704\n"
     ]
    }
   ],
   "source": [
    "#Create session\n",
    "with tf.Session() as sess:\n",
    "    #Init variables\n",
    "    sess.run(init_op)\n",
    "    total_batch=int(len(mnist.train.labels)/batch_size)\n",
    "    for epoch in range(epochs):\n",
    "        avg_cost=0\n",
    "        for i in range(total_batch):\n",
    "            batch_x,batch_y=mnist.train.next_batch(batch_size=batch_size)\n",
    "            _, c=sess.run([optimiser,cross_entropy],feed_dict={x:batch_x,y:batch_y})\n",
    "            avg_cost += c/total_batch\n",
    "        print(\"Epoch:\", (epoch+1),\"cost = \", \"{:.3f}\".format(avg_cost))\n",
    "    print(sess.run(accuracy, feed_dict={x:mnist.test.images,y:mnist.test.labels}))"
   ]
  },
  {
   "cell_type": "code",
   "execution_count": null,
   "metadata": {},
   "outputs": [],
   "source": []
  }
 ],
 "metadata": {
  "kernelspec": {
   "display_name": "Python 3",
   "language": "python",
   "name": "python3"
  },
  "language_info": {
   "codemirror_mode": {
    "name": "ipython",
    "version": 3
   },
   "file_extension": ".py",
   "mimetype": "text/x-python",
   "name": "python",
   "nbconvert_exporter": "python",
   "pygments_lexer": "ipython3",
   "version": "3.6.7"
  }
 },
 "nbformat": 4,
 "nbformat_minor": 2
}
